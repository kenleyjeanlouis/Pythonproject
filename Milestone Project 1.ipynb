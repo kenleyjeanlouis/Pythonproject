{
 "cells": [
  {
   "cell_type": "code",
   "execution_count": 67,
   "id": "ffe35432",
   "metadata": {},
   "outputs": [],
   "source": [
    "from IPython.display import clear_output"
   ]
  },
  {
   "cell_type": "code",
   "execution_count": 68,
   "id": "8524d28f",
   "metadata": {},
   "outputs": [],
   "source": [
    "def tic_display(board):\n",
    "    clear_output()\n",
    "    print(board[1]+'|'+board[2]+'|'+board[3])\n",
    "    print(board[4]+'|'+board[5]+'|'+board[6])\n",
    "    print(board[7]+'|'+board[8]+'|'+board[9])"
   ]
  },
  {
   "cell_type": "code",
   "execution_count": 70,
   "id": "1ab26f46",
   "metadata": {},
   "outputs": [
    {
     "name": "stdout",
     "output_type": "stream",
     "text": [
      "g|Y|W\n",
      "g|T|D\n",
      "f|#|$\n"
     ]
    }
   ],
   "source": [
    "test_board = ['f','g','Y','W','g','T','D','f','#','$']\n",
    "tic_display(test_board)\n",
    "tic_display(test_board)"
   ]
  },
  {
   "cell_type": "code",
   "execution_count": 4,
   "id": "4879917f",
   "metadata": {},
   "outputs": [
    {
     "name": "stdout",
     "output_type": "stream",
     "text": [
      "Pick your location: 0\n"
     ]
    }
   ],
   "source": [
    "ticspot= int(input(\"Pick your location: \"))"
   ]
  },
  {
   "cell_type": "code",
   "execution_count": 5,
   "id": "61e5cc1d",
   "metadata": {},
   "outputs": [
    {
     "data": {
      "text/plain": [
       "int"
      ]
     },
     "execution_count": 5,
     "metadata": {},
     "output_type": "execute_result"
    }
   ],
   "source": [
    "type(ticspot)"
   ]
  },
  {
   "cell_type": "code",
   "execution_count": 6,
   "id": "126215de",
   "metadata": {},
   "outputs": [],
   "source": [
    "   #logic behind this is by starting with a default incorrect method then\n",
    "    #force the program to search for the right with else"
   ]
  },
  {
   "cell_type": "code",
   "execution_count": 7,
   "id": "0824e362",
   "metadata": {},
   "outputs": [],
   "source": [
    "def user_choice():\n",
    "    \n",
    "    choice = 'WRONG'\n",
    "    acceptable_range = range(1,10)\n",
    "    within_range = False\n",
    "    \n",
    "    #Digit Check\n",
    "    while choice.isdigit() == False or within_range == False:\n",
    "        \n",
    "        choice = input(\"Pick your position (1-9): \")\n",
    "                \n",
    "        if choice.isdigit() == False:\n",
    "            print(\"Please enter a digit!\")\n",
    "    \n",
    "    #Range Check\n",
    "        if choice.isdigit() == True:\n",
    "            if int(choice) in acceptable_range:\n",
    "                within_range = True\n",
    "            else: print(\"Please choose between 1-9\")\n",
    "        \n",
    "    return int(choice)"
   ]
  },
  {
   "cell_type": "code",
   "execution_count": 8,
   "id": "d7accc38",
   "metadata": {},
   "outputs": [
    {
     "name": "stdout",
     "output_type": "stream",
     "text": [
      "Pick your position (1-9): 5\n"
     ]
    },
    {
     "data": {
      "text/plain": [
       "5"
      ]
     },
     "execution_count": 8,
     "metadata": {},
     "output_type": "execute_result"
    }
   ],
   "source": [
    "user_choice()"
   ]
  },
  {
   "cell_type": "code",
   "execution_count": 71,
   "id": "589293c8",
   "metadata": {},
   "outputs": [],
   "source": [
    "def player_profile():\n",
    "    # Players got to choose if they're X or O\n",
    "    players_choice = ['X','O']\n",
    "    player1= ''\n",
    "    player2= ''\n",
    "    \n",
    "     #validate player 1 selection \n",
    "    while player1 not in players_choice:\n",
    "        player1 = str.upper(input('Player please choose your Tic (X or O) '))\n",
    "        \n",
    "        if player1 not in players_choice:\n",
    "            print('Please only select X or O')\n",
    "     \n",
    "    #selecting player2\n",
    "        if player1.upper() == 'X':\n",
    "            player2 = 'O'\n",
    "        elif player1.upper() == 'O':\n",
    "            player2 = 'X'"
   ]
  },
  {
   "cell_type": "code",
   "execution_count": 74,
   "id": "2324f7a3",
   "metadata": {},
   "outputs": [
    {
     "name": "stdout",
     "output_type": "stream",
     "text": [
      "Player please choose your Tic (X or O) x\n"
     ]
    }
   ],
   "source": [
    "player1 =player_profile()"
   ]
  },
  {
   "cell_type": "code",
   "execution_count": 76,
   "id": "64dc4bac",
   "metadata": {},
   "outputs": [],
   "source": [
    "player1"
   ]
  },
  {
   "cell_type": "code",
   "execution_count": 11,
   "id": "42c58155",
   "metadata": {},
   "outputs": [],
   "source": [
    "def game_on():\n",
    "    \n",
    "    game_choice = ['Y','N']\n",
    "    game_decision = ''\n",
    "    \n",
    "    while game_decision not in game_choice:\n",
    "        game_decision = str.upper(input(\"Do you want to continue playing (Y or N)? \"))\n",
    "        \n",
    "        if game_decision not in game_choice:\n",
    "            print('Please only choose Y or N')\n",
    "        \n",
    "        elif game_decision.upper() == 'N':\n",
    "            print(\"THANK YOU FOR PLAYING\")"
   ]
  },
  {
   "cell_type": "code",
   "execution_count": 12,
   "id": "d62951ae",
   "metadata": {},
   "outputs": [
    {
     "name": "stdout",
     "output_type": "stream",
     "text": [
      "Do you want to continue playing (Y or N)? g\n",
      "Please only choose Y or N\n",
      "Do you want to continue playing (Y or N)? y\n"
     ]
    }
   ],
   "source": [
    "game_on()"
   ]
  },
  {
   "cell_type": "code",
   "execution_count": 13,
   "id": "30eb1a5c",
   "metadata": {},
   "outputs": [],
   "source": [
    "def plug_in():\n",
    "    #Got to make the choices go into the display\n",
    "    tic_display(row1,row2,row3)\n",
    "     \n",
    "    player_profile()\n",
    "    \n",
    "    user_choice()\n",
    "    \n",
    "    if user_choice == row1\n",
    "    elif user_choice== row2\n",
    "    elif user_choice==row3 "
   ]
  },
  {
   "cell_type": "code",
   "execution_count": 32,
   "id": "1cc18ecd",
   "metadata": {},
   "outputs": [
    {
     "name": "stdout",
     "output_type": "stream",
     "text": [
      "(1, '|', 2, '|', 3)\n",
      "(4, '|', 5, '|', 6)\n",
      "(7, '|', 8, '|', 9)\n",
      "Player please choose your Tic (X or O) x\n",
      "Pick your position (1-9): 9\n"
     ]
    }
   ],
   "source": [
    "plug_in()"
   ]
  },
  {
   "cell_type": "code",
   "execution_count": 25,
   "id": "17df0d1d",
   "metadata": {},
   "outputs": [],
   "source": [
    "def winner():\n",
    "    #got to get the winning mechanics downs\n",
    "    tic_display(row1,row2,row3)\n",
    "    game_winner = ((row1[0]==row1[2]==row1[4]),\n",
    "    (row1[0]==row2[2]==row3[4]),\n",
    "    (row1[0]==row2[0]==row3[0]),\n",
    "    (row1[4]==row2[4]==row3[4]),\n",
    "    (row2[0]==row2[2]==row2[4]),\n",
    "    (row3[0]==row3[2]==row3[4]),\n",
    "    (row3[0]==row2[2]==row1[4]))\n",
    "    \n",
    "    if game_winner is True:\n",
    "        print(\"Congratulations you won\")"
   ]
  },
  {
   "cell_type": "code",
   "execution_count": 18,
   "id": "4efed029",
   "metadata": {},
   "outputs": [
    {
     "name": "stdout",
     "output_type": "stream",
     "text": [
      "('1', '|', '2', '|', '3')\n",
      "('', '|', '', '|', '')\n",
      "('', '|', '', '|', '')\n"
     ]
    }
   ],
   "source": [
    "tic_display(row1,row2,row3)"
   ]
  },
  {
   "cell_type": "code",
   "execution_count": 24,
   "id": "49243667",
   "metadata": {},
   "outputs": [
    {
     "name": "stdout",
     "output_type": "stream",
     "text": [
      "3\n"
     ]
    }
   ],
   "source": [
    "print(row1[4])"
   ]
  },
  {
   "cell_type": "code",
   "execution_count": 27,
   "id": "db73ef7b",
   "metadata": {},
   "outputs": [],
   "source": [
    "def plug_in():\n",
    "    #Got to make the choices go into the display\n",
    "    tic_display(row1,row2,row3)\n",
    "    \n",
    "     \n",
    "    player_profile()\n",
    "    \n",
    "    user_choice()\n",
    "    "
   ]
  },
  {
   "cell_type": "code",
   "execution_count": 34,
   "id": "dadebac0",
   "metadata": {},
   "outputs": [
    {
     "name": "stdout",
     "output_type": "stream",
     "text": [
      "(1, '|', 2, '|', 3)\n",
      "(4, '|', 5, '|', 6)\n",
      "(7, '|', 8, '|', 9)\n",
      "Player please choose your Tic (X or O) 9\n",
      "Please only select X or O\n",
      "Player please choose your Tic (X or O) x\n",
      "Pick your position (1-9): 9\n"
     ]
    }
   ],
   "source": [
    "plug_in()"
   ]
  },
  {
   "cell_type": "code",
   "execution_count": 35,
   "id": "c1ee0a0f",
   "metadata": {},
   "outputs": [],
   "source": [
    "def plug_in():\n",
    "    #Got to make the choices go into the display\n",
    "    tic_display(row1,row2,row3)\n",
    "    \n",
    "     \n",
    "    player_profile()\n",
    "    \n",
    "    user_choice()\n",
    "    \n",
    "    pass"
   ]
  },
  {
   "cell_type": "code",
   "execution_count": 42,
   "id": "b630b236",
   "metadata": {},
   "outputs": [
    {
     "name": "stdout",
     "output_type": "stream",
     "text": [
      "Player please choose your Tic (X or O) x\n"
     ]
    }
   ],
   "source": [
    "player1 = player_profile()"
   ]
  },
  {
   "cell_type": "code",
   "execution_count": 44,
   "id": "86837498",
   "metadata": {},
   "outputs": [],
   "source": [
    "player1"
   ]
  },
  {
   "cell_type": "code",
   "execution_count": null,
   "id": "94e2a698",
   "metadata": {},
   "outputs": [],
   "source": []
  }
 ],
 "metadata": {
  "kernelspec": {
   "display_name": "Python 3 (ipykernel)",
   "language": "python",
   "name": "python3"
  },
  "language_info": {
   "codemirror_mode": {
    "name": "ipython",
    "version": 3
   },
   "file_extension": ".py",
   "mimetype": "text/x-python",
   "name": "python",
   "nbconvert_exporter": "python",
   "pygments_lexer": "ipython3",
   "version": "3.9.13"
  }
 },
 "nbformat": 4,
 "nbformat_minor": 5
}
